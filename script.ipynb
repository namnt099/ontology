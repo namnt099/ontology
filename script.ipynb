{
    "metadata": {
        "kernelspec": {
            "display_name": ".venv",
            "language": "python",
            "name": "python3"
        },
        "language_info": {
            "name": "python",
            "version": "3.11.10"
        },
        "kernel_spec": {
            "display_name": "SQL",
            "language": "sql",
            "name": "SQL"
        }
    },
    "nbformat_minor": 2,
    "nbformat": 4,
    "cells": [
        {
            "cell_type": "markdown",
            "source": [
                "# [TuVi]"
            ],
            "metadata": {
                "azdata_cell_guid": "dcef4e4e-8da9-4629-afde-a1eff94d52bc",
                "object_type": "Database",
                "urn": "Server[@Name='DESKTOP-6A65J8K\\SQLEXPRESS']/Database[@Name='TuVi']"
            }
        },
        {
            "cell_type": "code",
            "source": [
                "USE [master]\n",
                "GO\n"
            ],
            "metadata": {
                "azdata_cell_guid": "2d174306-103e-4c63-9548-add760606bc0",
                "language": "sql",
                "object_type": "Database",
                "tags": [],
                "urn": "Server[@Name='DESKTOP-6A65J8K\\SQLEXPRESS']/Database[@Name='TuVi']",
                "vscode": {
                    "languageId": "sql"
                }
            },
            "outputs": [
                {
                    "output_type": "display_data",
                    "data": {
                        "text/html": "Commands completed successfully."
                    },
                    "metadata": {}
                },
                {
                    "output_type": "display_data",
                    "data": {
                        "text/html": "Total execution time: 00:00:00.001"
                    },
                    "metadata": {}
                }
            ],
            "execution_count": 1
        },
        {
            "cell_type": "code",
            "source": [
                "/****** Object:  Database [TuVi]    Script Date: 26/03/2024 8:08:11 pm ******/\n",
                "CREATE DATABASE [TuVi]\n",
                " CONTAINMENT = NONE\n",
                " ON  PRIMARY \n",
                "( NAME = N'TuVi', FILENAME = N'/Users/namnguyen/datn/TuVi.mdf' , SIZE = 73728KB , MAXSIZE = UNLIMITED, FILEGROWTH = 65536KB )\n",
                " LOG ON \n",
                "( NAME = N'TuVi_log', FILENAME = N'/Users/namnguyen/datn/TuVi_log.ldf' , SIZE = 73728KB , MAXSIZE = 2048GB , FILEGROWTH = 65536KB )\n",
                "GO\n",
                "ALTER DATABASE [TuVi] SET COMPATIBILITY_LEVEL = 110\n",
                "GO\n",
                "IF (1 = FULLTEXTSERVICEPROPERTY('IsFullTextInstalled'))\n",
                "begin\n",
                "EXEC [TuVi].[dbo].[sp_fulltext_database] @action = 'enable'\n",
                "end\n",
                "GO\n",
                "ALTER DATABASE [TuVi] SET ANSI_NULL_DEFAULT OFF \n",
                "GO\n",
                "ALTER DATABASE [TuVi] SET ANSI_NULLS OFF \n",
                "GO\n",
                "ALTER DATABASE [TuVi] SET ANSI_PADDING OFF \n",
                "GO\n",
                "ALTER DATABASE [TuVi] SET ANSI_WARNINGS OFF \n",
                "GO\n",
                "ALTER DATABASE [TuVi] SET ARITHABORT OFF \n",
                "GO\n",
                "ALTER DATABASE [TuVi] SET AUTO_CLOSE ON \n",
                "GO\n",
                "ALTER DATABASE [TuVi] SET AUTO_SHRINK OFF \n",
                "GO\n",
                "ALTER DATABASE [TuVi] SET AUTO_UPDATE_STATISTICS ON \n",
                "GO\n",
                "ALTER DATABASE [TuVi] SET CURSOR_CLOSE_ON_COMMIT OFF \n",
                "GO\n",
                "ALTER DATABASE [TuVi] SET CURSOR_DEFAULT  GLOBAL \n",
                "GO\n",
                "ALTER DATABASE [TuVi] SET CONCAT_NULL_YIELDS_NULL OFF \n",
                "GO\n",
                "ALTER DATABASE [TuVi] SET NUMERIC_ROUNDABORT OFF \n",
                "GO\n",
                "ALTER DATABASE [TuVi] SET QUOTED_IDENTIFIER OFF \n",
                "GO\n",
                "ALTER DATABASE [TuVi] SET RECURSIVE_TRIGGERS OFF \n",
                "GO\n",
                "ALTER DATABASE [TuVi] SET  DISABLE_BROKER \n",
                "GO\n",
                "ALTER DATABASE [TuVi] SET AUTO_UPDATE_STATISTICS_ASYNC OFF \n",
                "GO\n",
                "ALTER DATABASE [TuVi] SET DATE_CORRELATION_OPTIMIZATION OFF \n",
                "GO\n",
                "ALTER DATABASE [TuVi] SET TRUSTWORTHY OFF \n",
                "GO\n",
                "ALTER DATABASE [TuVi] SET ALLOW_SNAPSHOT_ISOLATION OFF \n",
                "GO\n",
                "ALTER DATABASE [TuVi] SET PARAMETERIZATION SIMPLE \n",
                "GO\n",
                "ALTER DATABASE [TuVi] SET READ_COMMITTED_SNAPSHOT OFF \n",
                "GO\n",
                "ALTER DATABASE [TuVi] SET HONOR_BROKER_PRIORITY OFF \n",
                "GO\n",
                "ALTER DATABASE [TuVi] SET RECOVERY SIMPLE \n",
                "GO\n",
                "ALTER DATABASE [TuVi] SET  MULTI_USER \n",
                "GO\n",
                "ALTER DATABASE [TuVi] SET PAGE_VERIFY CHECKSUM  \n",
                "GO\n",
                "ALTER DATABASE [TuVi] SET DB_CHAINING OFF \n",
                "GO\n",
                "ALTER DATABASE [TuVi] SET FILESTREAM( NON_TRANSACTED_ACCESS = OFF ) \n",
                "GO\n",
                "ALTER DATABASE [TuVi] SET TARGET_RECOVERY_TIME = 60 SECONDS \n",
                "GO\n"
            ],
            "metadata": {
                "azdata_cell_guid": "e5211637-5e8a-4b64-a232-7845429647c4",
                "language": "sql",
                "object_type": "Database",
                "urn": "Server[@Name='DESKTOP-6A65J8K\\SQLEXPRESS']/Database[@Name='TuVi']",
                "vscode": {
                    "languageId": "sql"
                }
            },
            "outputs": [
                {
                    "output_type": "display_data",
                    "data": {
                        "text/html": "Commands completed successfully."
                    },
                    "metadata": {}
                },
                {
                    "output_type": "display_data",
                    "data": {
                        "text/html": "Commands completed successfully."
                    },
                    "metadata": {}
                },
                {
                    "output_type": "display_data",
                    "data": {
                        "text/html": "Commands completed successfully."
                    },
                    "metadata": {}
                },
                {
                    "output_type": "display_data",
                    "data": {
                        "text/html": "Commands completed successfully."
                    },
                    "metadata": {}
                },
                {
                    "output_type": "display_data",
                    "data": {
                        "text/html": "Commands completed successfully."
                    },
                    "metadata": {}
                },
                {
                    "output_type": "display_data",
                    "data": {
                        "text/html": "Commands completed successfully."
                    },
                    "metadata": {}
                },
                {
                    "output_type": "display_data",
                    "data": {
                        "text/html": "Commands completed successfully."
                    },
                    "metadata": {}
                },
                {
                    "output_type": "display_data",
                    "data": {
                        "text/html": "Commands completed successfully."
                    },
                    "metadata": {}
                },
                {
                    "output_type": "display_data",
                    "data": {
                        "text/html": "Commands completed successfully."
                    },
                    "metadata": {}
                },
                {
                    "output_type": "display_data",
                    "data": {
                        "text/html": "Commands completed successfully."
                    },
                    "metadata": {}
                },
                {
                    "output_type": "display_data",
                    "data": {
                        "text/html": "Commands completed successfully."
                    },
                    "metadata": {}
                },
                {
                    "output_type": "display_data",
                    "data": {
                        "text/html": "Commands completed successfully."
                    },
                    "metadata": {}
                },
                {
                    "output_type": "display_data",
                    "data": {
                        "text/html": "Commands completed successfully."
                    },
                    "metadata": {}
                },
                {
                    "output_type": "display_data",
                    "data": {
                        "text/html": "Commands completed successfully."
                    },
                    "metadata": {}
                },
                {
                    "output_type": "display_data",
                    "data": {
                        "text/html": "Commands completed successfully."
                    },
                    "metadata": {}
                },
                {
                    "output_type": "display_data",
                    "data": {
                        "text/html": "Commands completed successfully."
                    },
                    "metadata": {}
                },
                {
                    "output_type": "display_data",
                    "data": {
                        "text/html": "Commands completed successfully."
                    },
                    "metadata": {}
                },
                {
                    "output_type": "display_data",
                    "data": {
                        "text/html": "Commands completed successfully."
                    },
                    "metadata": {}
                },
                {
                    "output_type": "display_data",
                    "data": {
                        "text/html": "Commands completed successfully."
                    },
                    "metadata": {}
                },
                {
                    "output_type": "display_data",
                    "data": {
                        "text/html": "Commands completed successfully."
                    },
                    "metadata": {}
                },
                {
                    "output_type": "display_data",
                    "data": {
                        "text/html": "Commands completed successfully."
                    },
                    "metadata": {}
                },
                {
                    "output_type": "display_data",
                    "data": {
                        "text/html": "Commands completed successfully."
                    },
                    "metadata": {}
                },
                {
                    "output_type": "display_data",
                    "data": {
                        "text/html": "Commands completed successfully."
                    },
                    "metadata": {}
                },
                {
                    "output_type": "display_data",
                    "data": {
                        "text/html": "Commands completed successfully."
                    },
                    "metadata": {}
                },
                {
                    "output_type": "display_data",
                    "data": {
                        "text/html": "Commands completed successfully."
                    },
                    "metadata": {}
                },
                {
                    "output_type": "display_data",
                    "data": {
                        "text/html": "Commands completed successfully."
                    },
                    "metadata": {}
                },
                {
                    "output_type": "display_data",
                    "data": {
                        "text/html": "Commands completed successfully."
                    },
                    "metadata": {}
                },
                {
                    "output_type": "display_data",
                    "data": {
                        "text/html": "Commands completed successfully."
                    },
                    "metadata": {}
                },
                {
                    "output_type": "display_data",
                    "data": {
                        "text/html": "Commands completed successfully."
                    },
                    "metadata": {}
                },
                {
                    "output_type": "display_data",
                    "data": {
                        "text/html": "Commands completed successfully."
                    },
                    "metadata": {}
                },
                {
                    "output_type": "display_data",
                    "data": {
                        "text/html": "Commands completed successfully."
                    },
                    "metadata": {}
                },
                {
                    "output_type": "display_data",
                    "data": {
                        "text/html": "Total execution time: 00:00:01.095"
                    },
                    "metadata": {}
                }
            ],
            "execution_count": 2
        },
        {
            "cell_type": "markdown",
            "source": [
                "# [dbo].[C6_Rules]"
            ],
            "metadata": {
                "azdata_cell_guid": "245428ce-c915-4bf3-a48f-16b5d40d28e7",
                "object_type": "Table",
                "urn": "Server[@Name='DESKTOP-6A65J8K\\SQLEXPRESS']/Database[@Name='TuVi']/Table[@Name='C6_Rules' and @Schema='dbo']"
            }
        },
        {
            "cell_type": "code",
            "source": [
                "USE [TuVi]\n",
                "GO\n"
            ],
            "metadata": {
                "azdata_cell_guid": "e05bc052-0935-472f-a044-67d7aa4b342f",
                "language": "sql",
                "object_type": "Table",
                "urn": "Server[@Name='DESKTOP-6A65J8K\\SQLEXPRESS']/Database[@Name='TuVi']/Table[@Name='C6_Rules' and @Schema='dbo']",
                "vscode": {
                    "languageId": "sql"
                }
            },
            "outputs": [
                {
                    "output_type": "display_data",
                    "data": {
                        "text/html": "Commands completed successfully."
                    },
                    "metadata": {}
                },
                {
                    "output_type": "display_data",
                    "data": {
                        "text/html": "Total execution time: 00:00:00.207"
                    },
                    "metadata": {}
                }
            ],
            "execution_count": 3
        },
        {
            "cell_type": "code",
            "source": [
                "/****** Object:  Table [dbo].[C6_Rules]    Script Date: 26/03/2024 8:08:11 pm ******/\n",
                "SET ANSI_NULLS ON\n",
                "GO\n",
                "SET QUOTED_IDENTIFIER ON\n",
                "GO\n",
                "CREATE TABLE [dbo].[C6_Rules](\n",
                "\t[ruleid] [float] NULL,\n",
                "\t[mucluc] [nvarchar](255) NULL,\n",
                "\t[nguyenhan] [nvarchar](255) NULL,\n",
                "\t[ketqua] [nvarchar](max) NULL,\n",
                "\t[cauphu] [nvarchar](255) NULL,\n",
                "\t[thamkhao] [nvarchar](255) NULL\n",
                ") ON [PRIMARY] TEXTIMAGE_ON [PRIMARY]\n",
                "GO\n"
            ],
            "metadata": {
                "azdata_cell_guid": "429ef5fd-5863-47af-af64-900f54016354",
                "language": "sql",
                "object_type": "Table",
                "urn": "Server[@Name='DESKTOP-6A65J8K\\SQLEXPRESS']/Database[@Name='TuVi']/Table[@Name='C6_Rules' and @Schema='dbo']",
                "vscode": {
                    "languageId": "sql"
                }
            },
            "outputs": [
                {
                    "output_type": "display_data",
                    "data": {
                        "text/html": "Commands completed successfully."
                    },
                    "metadata": {}
                },
                {
                    "output_type": "display_data",
                    "data": {
                        "text/html": "Commands completed successfully."
                    },
                    "metadata": {}
                },
                {
                    "output_type": "display_data",
                    "data": {
                        "text/html": "Commands completed successfully."
                    },
                    "metadata": {}
                },
                {
                    "output_type": "display_data",
                    "data": {
                        "text/html": "Total execution time: 00:00:00.021"
                    },
                    "metadata": {}
                }
            ],
            "execution_count": 4
        },
        {
            "cell_type": "markdown",
            "source": [
                "# [dbo].[C6_RulesInput]"
            ],
            "metadata": {
                "azdata_cell_guid": "ea8370f6-7c51-4036-a737-deecc37ab833",
                "object_type": "Table",
                "urn": "Server[@Name='DESKTOP-6A65J8K\\SQLEXPRESS']/Database[@Name='TuVi']/Table[@Name='C6_RulesInput' and @Schema='dbo']"
            }
        },
        {
            "cell_type": "code",
            "source": [
                "/****** Object:  Table [dbo].[C6_RulesInput]    Script Date: 26/03/2024 8:08:11 pm ******/\n",
                "SET ANSI_NULLS ON\n",
                "GO\n",
                "SET QUOTED_IDENTIFIER ON\n",
                "GO\n",
                "CREATE TABLE [dbo].[C6_RulesInput](\n",
                "\t[Rule_Id] [float] NULL,\n",
                "\t[Cung] [float] NULL,\n",
                "\t[Sao] [float] NULL,\n",
                "\t[Loigiai_id] [float] NULL,\n",
                "\t[marker] [float] NULL\n",
                ") ON [PRIMARY]\n",
                "GO\n"
            ],
            "metadata": {
                "azdata_cell_guid": "2bd8fe80-45da-4af6-ba5e-baea6a9544ed",
                "language": "sql",
                "object_type": "Table",
                "urn": "Server[@Name='DESKTOP-6A65J8K\\SQLEXPRESS']/Database[@Name='TuVi']/Table[@Name='C6_RulesInput' and @Schema='dbo']",
                "vscode": {
                    "languageId": "sql"
                }
            },
            "outputs": [
                {
                    "output_type": "display_data",
                    "data": {
                        "text/html": "Commands completed successfully."
                    },
                    "metadata": {}
                },
                {
                    "output_type": "display_data",
                    "data": {
                        "text/html": "Commands completed successfully."
                    },
                    "metadata": {}
                },
                {
                    "output_type": "display_data",
                    "data": {
                        "text/html": "Commands completed successfully."
                    },
                    "metadata": {}
                },
                {
                    "output_type": "display_data",
                    "data": {
                        "text/html": "Total execution time: 00:00:00.012"
                    },
                    "metadata": {}
                }
            ],
            "execution_count": 5
        },
        {
            "cell_type": "markdown",
            "source": [
                "# [dbo].[C6_Tho_Rules]"
            ],
            "metadata": {
                "azdata_cell_guid": "983382d5-ddb9-486a-a71a-15b4cfff2bf0",
                "object_type": "Table",
                "urn": "Server[@Name='DESKTOP-6A65J8K\\SQLEXPRESS']/Database[@Name='TuVi']/Table[@Name='C6_Tho_Rules' and @Schema='dbo']"
            }
        },
        {
            "cell_type": "code",
            "source": [
                "/****** Object:  Table [dbo].[C6_Tho_Rules]    Script Date: 26/03/2024 8:08:11 pm ******/\n",
                "SET ANSI_NULLS ON\n",
                "GO\n",
                "SET QUOTED_IDENTIFIER ON\n",
                "GO\n",
                "CREATE TABLE [dbo].[C6_Tho_Rules](\n",
                "\t[ruleid] [float] NULL,\n",
                "\t[mucluc] [nvarchar](255) NULL,\n",
                "\t[nguyenhan] [nvarchar](255) NULL,\n",
                "\t[ketqua] [nvarchar](max) NULL,\n",
                "\t[thamkhao] [nvarchar](255) NULL,\n",
                "\t[cauphu] [nvarchar](255) NULL,\n",
                "\t[marker] [float] NULL\n",
                ") ON [PRIMARY] TEXTIMAGE_ON [PRIMARY]\n",
                "GO\n"
            ],
            "metadata": {
                "azdata_cell_guid": "98d51df2-2daa-43e9-b1a4-0f2311c6f34c",
                "language": "sql",
                "object_type": "Table",
                "urn": "Server[@Name='DESKTOP-6A65J8K\\SQLEXPRESS']/Database[@Name='TuVi']/Table[@Name='C6_Tho_Rules' and @Schema='dbo']",
                "vscode": {
                    "languageId": "sql"
                }
            },
            "outputs": [
                {
                    "output_type": "display_data",
                    "data": {
                        "text/html": "Commands completed successfully."
                    },
                    "metadata": {}
                },
                {
                    "output_type": "display_data",
                    "data": {
                        "text/html": "Commands completed successfully."
                    },
                    "metadata": {}
                },
                {
                    "output_type": "display_data",
                    "data": {
                        "text/html": "Commands completed successfully."
                    },
                    "metadata": {}
                },
                {
                    "output_type": "display_data",
                    "data": {
                        "text/html": "Total execution time: 00:00:00.014"
                    },
                    "metadata": {}
                }
            ],
            "execution_count": 6
        },
        {
            "cell_type": "markdown",
            "source": [
                "# [dbo].[Chi]"
            ],
            "metadata": {
                "azdata_cell_guid": "4ffbf2b8-376a-45ad-9ac4-0a9e918911d8",
                "object_type": "Table",
                "urn": "Server[@Name='DESKTOP-6A65J8K\\SQLEXPRESS']/Database[@Name='TuVi']/Table[@Name='Chi' and @Schema='dbo']"
            }
        },
        {
            "cell_type": "code",
            "source": [
                "/****** Object:  Table [dbo].[Chi]    Script Date: 26/03/2024 8:08:11 pm ******/\n",
                "SET ANSI_NULLS ON\n",
                "GO\n",
                "SET QUOTED_IDENTIFIER ON\n",
                "GO\n",
                "CREATE TABLE [dbo].[Chi](\n",
                "\t[Chi_Id] [float] NULL,\n",
                "\t[tenChi] [nvarchar](255) NULL,\n",
                "\t[tenHanh] [nvarchar](255) NULL,\n",
                "\t[menhChu] [nvarchar](255) NULL,\n",
                "\t[thanChu] [nvarchar](255) NULL,\n",
                "\t[amDuong] [float] NULL\n",
                ") ON [PRIMARY]\n",
                "GO\n"
            ],
            "metadata": {
                "azdata_cell_guid": "a7189cf7-ca42-4fff-bd86-e6b522edc947",
                "language": "sql",
                "object_type": "Table",
                "urn": "Server[@Name='DESKTOP-6A65J8K\\SQLEXPRESS']/Database[@Name='TuVi']/Table[@Name='Chi' and @Schema='dbo']",
                "vscode": {
                    "languageId": "sql"
                }
            },
            "outputs": [
                {
                    "output_type": "display_data",
                    "data": {
                        "text/html": "Commands completed successfully."
                    },
                    "metadata": {}
                },
                {
                    "output_type": "display_data",
                    "data": {
                        "text/html": "Commands completed successfully."
                    },
                    "metadata": {}
                },
                {
                    "output_type": "display_data",
                    "data": {
                        "text/html": "Commands completed successfully."
                    },
                    "metadata": {}
                },
                {
                    "output_type": "display_data",
                    "data": {
                        "text/html": "Total execution time: 00:00:00.013"
                    },
                    "metadata": {}
                }
            ],
            "execution_count": 7
        },
        {
            "cell_type": "markdown",
            "source": [
                "# [dbo].[Cung]"
            ],
            "metadata": {
                "azdata_cell_guid": "7537f25b-d430-43cf-aaf5-a002b988ab6b",
                "object_type": "Table",
                "urn": "Server[@Name='DESKTOP-6A65J8K\\SQLEXPRESS']/Database[@Name='TuVi']/Table[@Name='Cung' and @Schema='dbo']"
            }
        },
        {
            "cell_type": "code",
            "source": [
                "/****** Object:  Table [dbo].[Cung]    Script Date: 26/03/2024 8:08:11 pm ******/\n",
                "SET ANSI_NULLS ON\n",
                "GO\n",
                "SET QUOTED_IDENTIFIER ON\n",
                "GO\n",
                "CREATE TABLE [dbo].[Cung](\n",
                "\t[Cung_Id] [float] NULL,\n",
                "\t[tenCung] [nvarchar](255) NULL,\n",
                "\t[Description] [nvarchar](max) NULL\n",
                ") ON [PRIMARY] TEXTIMAGE_ON [PRIMARY]\n",
                "GO\n"
            ],
            "metadata": {
                "azdata_cell_guid": "39a43ed4-74a7-49cb-b009-1af997e89d88",
                "language": "sql",
                "object_type": "Table",
                "urn": "Server[@Name='DESKTOP-6A65J8K\\SQLEXPRESS']/Database[@Name='TuVi']/Table[@Name='Cung' and @Schema='dbo']",
                "vscode": {
                    "languageId": "sql"
                }
            },
            "outputs": [
                {
                    "output_type": "display_data",
                    "data": {
                        "text/html": "Commands completed successfully."
                    },
                    "metadata": {}
                },
                {
                    "output_type": "display_data",
                    "data": {
                        "text/html": "Commands completed successfully."
                    },
                    "metadata": {}
                },
                {
                    "output_type": "display_data",
                    "data": {
                        "text/html": "Commands completed successfully."
                    },
                    "metadata": {}
                },
                {
                    "output_type": "display_data",
                    "data": {
                        "text/html": "Total execution time: 00:00:00.017"
                    },
                    "metadata": {}
                }
            ],
            "execution_count": 8
        },
        {
            "cell_type": "markdown",
            "source": [
                "# [dbo].[CungChu]"
            ],
            "metadata": {
                "azdata_cell_guid": "0ad0f659-6df3-46be-b2d4-997a69dbb07c",
                "object_type": "Table",
                "urn": "Server[@Name='DESKTOP-6A65J8K\\SQLEXPRESS']/Database[@Name='TuVi']/Table[@Name='CungChu' and @Schema='dbo']"
            }
        },
        {
            "cell_type": "code",
            "source": [
                "/****** Object:  Table [dbo].[CungChu]    Script Date: 26/03/2024 8:08:11 pm ******/\n",
                "SET ANSI_NULLS ON\n",
                "GO\n",
                "SET QUOTED_IDENTIFIER ON\n",
                "GO\n",
                "CREATE TABLE [dbo].[CungChu](\n",
                "\t[cungId] [int] NOT NULL,\n",
                "\t[tenCung] [nvarchar](100) NULL,\n",
                "\t[Description] [nvarchar](max) NULL,\n",
                "PRIMARY KEY CLUSTERED \n",
                "(\n",
                "\t[cungId] ASC\n",
                ")WITH (PAD_INDEX = OFF, STATISTICS_NORECOMPUTE = OFF, IGNORE_DUP_KEY = OFF, ALLOW_ROW_LOCKS = ON, ALLOW_PAGE_LOCKS = ON) ON [PRIMARY]\n",
                ") ON [PRIMARY] TEXTIMAGE_ON [PRIMARY]\n",
                "GO\n"
            ],
            "metadata": {
                "azdata_cell_guid": "7dab2750-d152-4283-9eb9-ea01ce08f0d7",
                "language": "sql",
                "object_type": "Table",
                "urn": "Server[@Name='DESKTOP-6A65J8K\\SQLEXPRESS']/Database[@Name='TuVi']/Table[@Name='CungChu' and @Schema='dbo']",
                "vscode": {
                    "languageId": "sql"
                }
            },
            "outputs": [
                {
                    "output_type": "display_data",
                    "data": {
                        "text/html": "Commands completed successfully."
                    },
                    "metadata": {}
                },
                {
                    "output_type": "display_data",
                    "data": {
                        "text/html": "Commands completed successfully."
                    },
                    "metadata": {}
                },
                {
                    "output_type": "display_data",
                    "data": {
                        "text/html": "Commands completed successfully."
                    },
                    "metadata": {}
                },
                {
                    "output_type": "display_data",
                    "data": {
                        "text/html": "Total execution time: 00:00:00.015"
                    },
                    "metadata": {}
                }
            ],
            "execution_count": 9
        },
        {
            "cell_type": "markdown",
            "source": [
                "# [dbo].[DiaChi]"
            ],
            "metadata": {
                "azdata_cell_guid": "60006279-f9cd-43d6-be9a-4188a52b2b19",
                "object_type": "Table",
                "urn": "Server[@Name='DESKTOP-6A65J8K\\SQLEXPRESS']/Database[@Name='TuVi']/Table[@Name='DiaChi' and @Schema='dbo']"
            }
        },
        {
            "cell_type": "code",
            "source": [
                "/****** Object:  Table [dbo].[DiaChi]    Script Date: 26/03/2024 8:08:11 pm ******/\n",
                "SET ANSI_NULLS ON\n",
                "GO\n",
                "SET QUOTED_IDENTIFIER ON\n",
                "GO\n",
                "CREATE TABLE [dbo].[DiaChi](\n",
                "\t[id] [int] NOT NULL,\n",
                "\t[tenChi] [nvarchar](10) NULL,\n",
                "\t[tenHanh] [char](1) NULL,\n",
                "\t[menhChu] [nvarchar](12) NULL,\n",
                "\t[thanChu] [nvarchar](12) NULL,\n",
                "\t[amDuong] [char](2) NULL,\n",
                "PRIMARY KEY CLUSTERED \n",
                "(\n",
                "\t[id] ASC\n",
                ")WITH (PAD_INDEX = OFF, STATISTICS_NORECOMPUTE = OFF, IGNORE_DUP_KEY = OFF, ALLOW_ROW_LOCKS = ON, ALLOW_PAGE_LOCKS = ON) ON [PRIMARY]\n",
                ") ON [PRIMARY]\n",
                "GO\n"
            ],
            "metadata": {
                "azdata_cell_guid": "dc757eac-8a0e-4f81-86a1-3ae6cbcb1948",
                "language": "sql",
                "object_type": "Table",
                "urn": "Server[@Name='DESKTOP-6A65J8K\\SQLEXPRESS']/Database[@Name='TuVi']/Table[@Name='DiaChi' and @Schema='dbo']",
                "vscode": {
                    "languageId": "sql"
                }
            },
            "outputs": [
                {
                    "output_type": "display_data",
                    "data": {
                        "text/html": "Commands completed successfully."
                    },
                    "metadata": {}
                },
                {
                    "output_type": "display_data",
                    "data": {
                        "text/html": "Commands completed successfully."
                    },
                    "metadata": {}
                },
                {
                    "output_type": "display_data",
                    "data": {
                        "text/html": "Commands completed successfully."
                    },
                    "metadata": {}
                },
                {
                    "output_type": "display_data",
                    "data": {
                        "text/html": "Total execution time: 00:00:00.014"
                    },
                    "metadata": {}
                }
            ],
            "execution_count": 10
        },
        {
            "cell_type": "markdown",
            "source": [
                "# [dbo].[DV_Rules]"
            ],
            "metadata": {
                "azdata_cell_guid": "4aa1bf10-cf82-4935-9bfb-4a0d69c3bc7d",
                "object_type": "Table",
                "urn": "Server[@Name='DESKTOP-6A65J8K\\SQLEXPRESS']/Database[@Name='TuVi']/Table[@Name='DV_Rules' and @Schema='dbo']"
            }
        },
        {
            "cell_type": "code",
            "source": [
                "/****** Object:  Table [dbo].[DV_Rules]    Script Date: 26/03/2024 8:08:11 pm ******/\n",
                "SET ANSI_NULLS ON\n",
                "GO\n",
                "SET QUOTED_IDENTIFIER ON\n",
                "GO\n",
                "CREATE TABLE [dbo].[DV_Rules](\n",
                "\t[DV_RuleId] [float] NULL,\n",
                "\t[mucluc] [nvarchar](255) NULL,\n",
                "\t[nguyenhan] [nvarchar](255) NULL,\n",
                "\t[Mucdo] [nvarchar](255) NULL,\n",
                "\t[Tham_khao] [nvarchar](255) NULL,\n",
                "\t[Loigiai] [nvarchar](255) NULL\n",
                ") ON [PRIMARY]\n",
                "GO\n"
            ],
            "metadata": {
                "azdata_cell_guid": "71604571-ef92-46b7-833f-9fbaa53cec3e",
                "language": "sql",
                "object_type": "Table",
                "urn": "Server[@Name='DESKTOP-6A65J8K\\SQLEXPRESS']/Database[@Name='TuVi']/Table[@Name='DV_Rules' and @Schema='dbo']",
                "vscode": {
                    "languageId": "sql"
                }
            },
            "outputs": [
                {
                    "output_type": "display_data",
                    "data": {
                        "text/html": "Commands completed successfully."
                    },
                    "metadata": {}
                },
                {
                    "output_type": "display_data",
                    "data": {
                        "text/html": "Commands completed successfully."
                    },
                    "metadata": {}
                },
                {
                    "output_type": "display_data",
                    "data": {
                        "text/html": "Commands completed successfully."
                    },
                    "metadata": {}
                },
                {
                    "output_type": "display_data",
                    "data": {
                        "text/html": "Total execution time: 00:00:00.013"
                    },
                    "metadata": {}
                }
            ],
            "execution_count": 11
        },
        {
            "cell_type": "markdown",
            "source": [
                "# [dbo].[DV_RulesInput]"
            ],
            "metadata": {
                "azdata_cell_guid": "4d7f364d-b3c0-488c-8d28-a2d6c9ddc548",
                "object_type": "Table",
                "urn": "Server[@Name='DESKTOP-6A65J8K\\SQLEXPRESS']/Database[@Name='TuVi']/Table[@Name='DV_RulesInput' and @Schema='dbo']"
            }
        },
        {
            "cell_type": "code",
            "source": [
                "/****** Object:  Table [dbo].[DV_RulesInput]    Script Date: 26/03/2024 8:08:11 pm ******/\n",
                "SET ANSI_NULLS ON\n",
                "GO\n",
                "SET QUOTED_IDENTIFIER ON\n",
                "GO\n",
                "CREATE TABLE [dbo].[DV_RulesInput](\n",
                "\t[DV_RuleInsId] [float] NULL,\n",
                "\t[Ban_menh] [float] NULL,\n",
                "\t[Hanh_dai_van] [float] NULL,\n",
                "\t[Tam_hop_tuoi] [float] NULL,\n",
                "\t[Tam_hop_dai_van] [float] NULL,\n",
                "\t[marker] [nvarchar](255) NULL\n",
                ") ON [PRIMARY]\n",
                "GO\n"
            ],
            "metadata": {
                "azdata_cell_guid": "b9ac6875-ae34-4bea-9f6a-459a894ede7d",
                "language": "sql",
                "object_type": "Table",
                "urn": "Server[@Name='DESKTOP-6A65J8K\\SQLEXPRESS']/Database[@Name='TuVi']/Table[@Name='DV_RulesInput' and @Schema='dbo']",
                "vscode": {
                    "languageId": "sql"
                }
            },
            "outputs": [
                {
                    "output_type": "display_data",
                    "data": {
                        "text/html": "Commands completed successfully."
                    },
                    "metadata": {}
                },
                {
                    "output_type": "display_data",
                    "data": {
                        "text/html": "Commands completed successfully."
                    },
                    "metadata": {}
                },
                {
                    "output_type": "display_data",
                    "data": {
                        "text/html": "Commands completed successfully."
                    },
                    "metadata": {}
                },
                {
                    "output_type": "display_data",
                    "data": {
                        "text/html": "Total execution time: 00:00:00.016"
                    },
                    "metadata": {}
                }
            ],
            "execution_count": 12
        },
        {
            "cell_type": "markdown",
            "source": [
                "# [dbo].[GD_Rules]"
            ],
            "metadata": {
                "azdata_cell_guid": "bf4e05f7-de4f-46f4-874d-18ab44558501",
                "object_type": "Table",
                "urn": "Server[@Name='DESKTOP-6A65J8K\\SQLEXPRESS']/Database[@Name='TuVi']/Table[@Name='GD_Rules' and @Schema='dbo']"
            }
        },
        {
            "cell_type": "code",
            "source": [
                "/****** Object:  Table [dbo].[GD_Rules]    Script Date: 26/03/2024 8:08:11 pm ******/\n",
                "SET ANSI_NULLS ON\n",
                "GO\n",
                "SET QUOTED_IDENTIFIER ON\n",
                "GO\n",
                "CREATE TABLE [dbo].[GD_Rules](\n",
                "\t[GD_RuleId] [int] NULL,\n",
                "\t[mucluc] [nvarchar](512) NULL,\n",
                "\t[nguyenhan] [nvarchar](512) NULL,\n",
                "\t[ketqua] [nvarchar](512) NULL,\n",
                "\t[thamkhao] [nvarchar](512) NULL,\n",
                "\t[Cau_phu] [nvarchar](max) NULL\n",
                ") ON [PRIMARY] TEXTIMAGE_ON [PRIMARY]\n",
                "GO\n"
            ],
            "metadata": {
                "azdata_cell_guid": "e20fc873-7265-4b6a-ae7d-64781bd4bd78",
                "language": "sql",
                "object_type": "Table",
                "urn": "Server[@Name='DESKTOP-6A65J8K\\SQLEXPRESS']/Database[@Name='TuVi']/Table[@Name='GD_Rules' and @Schema='dbo']",
                "vscode": {
                    "languageId": "sql"
                }
            },
            "outputs": [
                {
                    "output_type": "display_data",
                    "data": {
                        "text/html": "Commands completed successfully."
                    },
                    "metadata": {}
                },
                {
                    "output_type": "display_data",
                    "data": {
                        "text/html": "Commands completed successfully."
                    },
                    "metadata": {}
                },
                {
                    "output_type": "display_data",
                    "data": {
                        "text/html": "Commands completed successfully."
                    },
                    "metadata": {}
                },
                {
                    "output_type": "display_data",
                    "data": {
                        "text/html": "Total execution time: 00:00:00.015"
                    },
                    "metadata": {}
                }
            ],
            "execution_count": 13
        },
        {
            "cell_type": "markdown",
            "source": [
                "# [dbo].[GD_RulesInput]"
            ],
            "metadata": {
                "azdata_cell_guid": "7661dcf4-55cf-48ff-bca7-7ac23ba6386b",
                "object_type": "Table",
                "urn": "Server[@Name='DESKTOP-6A65J8K\\SQLEXPRESS']/Database[@Name='TuVi']/Table[@Name='GD_RulesInput' and @Schema='dbo']"
            }
        },
        {
            "cell_type": "code",
            "source": [
                "/****** Object:  Table [dbo].[GD_RulesInput]    Script Date: 26/03/2024 8:08:11 pm ******/\n",
                "SET ANSI_NULLS ON\n",
                "GO\n",
                "SET QUOTED_IDENTIFIER ON\n",
                "GO\n",
                "CREATE TABLE [dbo].[GD_RulesInput](\n",
                "\t[GD_RuleInsId] [float] NULL,\n",
                "\t[Cung] [float] NULL,\n",
                "\t[Chi] [float] NULL,\n",
                "\t[Sao] [float] NULL,\n",
                "\t[not_Sao] [float] NULL,\n",
                "\t[Can] [float] NULL,\n",
                "\t[id_Loigiai] [float] NULL,\n",
                "\t[id_CauPhu] [float] NULL,\n",
                "\t[id_category] [float] NULL,\n",
                "\t[marker] [nvarchar](255) NULL\n",
                ") ON [PRIMARY]\n",
                "GO\n"
            ],
            "metadata": {
                "azdata_cell_guid": "d37c5c8b-e983-4ca1-a100-31b8c4b9b7ef",
                "language": "sql",
                "object_type": "Table",
                "urn": "Server[@Name='DESKTOP-6A65J8K\\SQLEXPRESS']/Database[@Name='TuVi']/Table[@Name='GD_RulesInput' and @Schema='dbo']",
                "vscode": {
                    "languageId": "sql"
                }
            },
            "outputs": [
                {
                    "output_type": "display_data",
                    "data": {
                        "text/html": "Commands completed successfully."
                    },
                    "metadata": {}
                },
                {
                    "output_type": "display_data",
                    "data": {
                        "text/html": "Commands completed successfully."
                    },
                    "metadata": {}
                },
                {
                    "output_type": "display_data",
                    "data": {
                        "text/html": "Commands completed successfully."
                    },
                    "metadata": {}
                },
                {
                    "output_type": "display_data",
                    "data": {
                        "text/html": "Total execution time: 00:00:00.013"
                    },
                    "metadata": {}
                }
            ],
            "execution_count": 14
        },
        {
            "cell_type": "markdown",
            "source": [
                "# [dbo].[Hanh]"
            ],
            "metadata": {
                "azdata_cell_guid": "e4b05104-5128-43e2-ac14-c15a751ab654",
                "object_type": "Table",
                "urn": "Server[@Name='DESKTOP-6A65J8K\\SQLEXPRESS']/Database[@Name='TuVi']/Table[@Name='Hanh' and @Schema='dbo']"
            }
        },
        {
            "cell_type": "code",
            "source": [
                "/****** Object:  Table [dbo].[Hanh]    Script Date: 26/03/2024 8:08:11 pm ******/\n",
                "SET ANSI_NULLS ON\n",
                "GO\n",
                "SET QUOTED_IDENTIFIER ON\n",
                "GO\n",
                "CREATE TABLE [dbo].[Hanh](\n",
                "\t[Hanh_Id] [float] NULL,\n",
                "\t[tenHanh] [nvarchar](255) NULL,\n",
                "\t[kiHieu] [nvarchar](255) NULL\n",
                ") ON [PRIMARY]\n",
                "GO\n"
            ],
            "metadata": {
                "azdata_cell_guid": "d5d39535-8c69-4600-9885-69d1ad7aaad7",
                "language": "sql",
                "object_type": "Table",
                "urn": "Server[@Name='DESKTOP-6A65J8K\\SQLEXPRESS']/Database[@Name='TuVi']/Table[@Name='Hanh' and @Schema='dbo']",
                "vscode": {
                    "languageId": "sql"
                }
            },
            "outputs": [
                {
                    "output_type": "display_data",
                    "data": {
                        "text/html": "Commands completed successfully."
                    },
                    "metadata": {}
                },
                {
                    "output_type": "display_data",
                    "data": {
                        "text/html": "Commands completed successfully."
                    },
                    "metadata": {}
                },
                {
                    "output_type": "display_data",
                    "data": {
                        "text/html": "Commands completed successfully."
                    },
                    "metadata": {}
                },
                {
                    "output_type": "display_data",
                    "data": {
                        "text/html": "Total execution time: 00:00:00.024"
                    },
                    "metadata": {}
                }
            ],
            "execution_count": 15
        },
        {
            "cell_type": "markdown",
            "source": [
                "# [dbo].[NgheNghiep_Rules]"
            ],
            "metadata": {
                "azdata_cell_guid": "bf611d72-3a5c-41f4-9cb0-fa4ad2b69e2a",
                "object_type": "Table",
                "urn": "Server[@Name='DESKTOP-6A65J8K\\SQLEXPRESS']/Database[@Name='TuVi']/Table[@Name='NgheNghiep_Rules' and @Schema='dbo']"
            }
        },
        {
            "cell_type": "code",
            "source": [
                "/****** Object:  Table [dbo].[NgheNghiep_Rules]    Script Date: 26/03/2024 8:08:11 pm ******/\n",
                "SET ANSI_NULLS ON\n",
                "GO\n",
                "SET QUOTED_IDENTIFIER ON\n",
                "GO\n",
                "CREATE TABLE [dbo].[NgheNghiep_Rules](\n",
                "\t[DangthucID] [float] NULL,\n",
                "\t[mucluc] [nvarchar](255) NULL,\n",
                "\t[dangthuc] [nvarchar](255) NULL,\n",
                "\t[dhnn] [nvarchar](255) NULL,\n",
                "\t[cauphu] [nvarchar](255) NULL,\n",
                "\t[thamkhao] [nvarchar](255) NULL\n",
                ") ON [PRIMARY]\n",
                "GO\n"
            ],
            "metadata": {
                "azdata_cell_guid": "86afd5a3-ed30-40d6-8597-6a31ee438065",
                "language": "sql",
                "object_type": "Table",
                "urn": "Server[@Name='DESKTOP-6A65J8K\\SQLEXPRESS']/Database[@Name='TuVi']/Table[@Name='NgheNghiep_Rules' and @Schema='dbo']",
                "vscode": {
                    "languageId": "sql"
                }
            },
            "outputs": [
                {
                    "output_type": "display_data",
                    "data": {
                        "text/html": "Commands completed successfully."
                    },
                    "metadata": {}
                },
                {
                    "output_type": "display_data",
                    "data": {
                        "text/html": "Commands completed successfully."
                    },
                    "metadata": {}
                },
                {
                    "output_type": "display_data",
                    "data": {
                        "text/html": "Commands completed successfully."
                    },
                    "metadata": {}
                },
                {
                    "output_type": "display_data",
                    "data": {
                        "text/html": "Total execution time: 00:00:00.014"
                    },
                    "metadata": {}
                }
            ],
            "execution_count": 16
        },
        {
            "cell_type": "markdown",
            "source": [
                "# [dbo].[NgheNghiep_RulesInput]"
            ],
            "metadata": {
                "azdata_cell_guid": "489bbe01-6f18-43ed-a6a4-d174da14dce9",
                "object_type": "Table",
                "urn": "Server[@Name='DESKTOP-6A65J8K\\SQLEXPRESS']/Database[@Name='TuVi']/Table[@Name='NgheNghiep_RulesInput' and @Schema='dbo']"
            }
        },
        {
            "cell_type": "code",
            "source": [
                "/****** Object:  Table [dbo].[NgheNghiep_RulesInput]    Script Date: 26/03/2024 8:08:11 pm ******/\n",
                "SET ANSI_NULLS ON\n",
                "GO\n",
                "SET QUOTED_IDENTIFIER ON\n",
                "GO\n",
                "CREATE TABLE [dbo].[NgheNghiep_RulesInput](\n",
                "\t[NgheNghiep_RuleInsId] [float] NULL,\n",
                "\t[Cuc] [float] NULL,\n",
                "\t[NgayAL] [float] NULL,\n",
                "\t[cungMTB] [float] NULL,\n",
                "\t[marker] [nvarchar](255) NULL\n",
                ") ON [PRIMARY]\n",
                "GO\n"
            ],
            "metadata": {
                "azdata_cell_guid": "48ed45d9-e8cf-4589-a94c-3d17a3ed9fc7",
                "language": "sql",
                "object_type": "Table",
                "urn": "Server[@Name='DESKTOP-6A65J8K\\SQLEXPRESS']/Database[@Name='TuVi']/Table[@Name='NgheNghiep_RulesInput' and @Schema='dbo']",
                "vscode": {
                    "languageId": "sql"
                }
            },
            "outputs": [
                {
                    "output_type": "display_data",
                    "data": {
                        "text/html": "Commands completed successfully."
                    },
                    "metadata": {}
                },
                {
                    "output_type": "display_data",
                    "data": {
                        "text/html": "Commands completed successfully."
                    },
                    "metadata": {}
                },
                {
                    "output_type": "display_data",
                    "data": {
                        "text/html": "Commands completed successfully."
                    },
                    "metadata": {}
                },
                {
                    "output_type": "display_data",
                    "data": {
                        "text/html": "Total execution time: 00:00:00.016"
                    },
                    "metadata": {}
                }
            ],
            "execution_count": 17
        },
        {
            "cell_type": "markdown",
            "source": [
                "# [dbo].[NuMenh_Rules]"
            ],
            "metadata": {
                "azdata_cell_guid": "f88a0373-bf2c-452c-bf91-7766bb5f547a",
                "object_type": "Table",
                "urn": "Server[@Name='DESKTOP-6A65J8K\\SQLEXPRESS']/Database[@Name='TuVi']/Table[@Name='NuMenh_Rules' and @Schema='dbo']"
            }
        },
        {
            "cell_type": "code",
            "source": [
                "/****** Object:  Table [dbo].[NuMenh_Rules]    Script Date: 26/03/2024 8:08:11 pm ******/\n",
                "SET ANSI_NULLS ON\n",
                "GO\n",
                "SET QUOTED_IDENTIFIER ON\n",
                "GO\n",
                "CREATE TABLE [dbo].[NuMenh_Rules](\n",
                "\t[id] [float] NULL,\n",
                "\t[mucluc] [nvarchar](255) NULL,\n",
                "\t[nguyenhan] [nvarchar](255) NULL,\n",
                "\t[ketqua] [nvarchar](max) NULL,\n",
                "\t[cauphu] [nvarchar](255) NULL,\n",
                "\t[thamkhao] [nvarchar](255) NULL\n",
                ") ON [PRIMARY] TEXTIMAGE_ON [PRIMARY]\n",
                "GO\n"
            ],
            "metadata": {
                "azdata_cell_guid": "855bb8c6-4785-4470-9032-9177a1b90c94",
                "language": "sql",
                "object_type": "Table",
                "urn": "Server[@Name='DESKTOP-6A65J8K\\SQLEXPRESS']/Database[@Name='TuVi']/Table[@Name='NuMenh_Rules' and @Schema='dbo']",
                "vscode": {
                    "languageId": "sql"
                }
            },
            "outputs": [
                {
                    "output_type": "display_data",
                    "data": {
                        "text/html": "Commands completed successfully."
                    },
                    "metadata": {}
                },
                {
                    "output_type": "display_data",
                    "data": {
                        "text/html": "Commands completed successfully."
                    },
                    "metadata": {}
                },
                {
                    "output_type": "display_data",
                    "data": {
                        "text/html": "Commands completed successfully."
                    },
                    "metadata": {}
                },
                {
                    "output_type": "display_data",
                    "data": {
                        "text/html": "Total execution time: 00:00:00.024"
                    },
                    "metadata": {}
                }
            ],
            "execution_count": 18
        },
        {
            "cell_type": "markdown",
            "source": [
                "# [dbo].[NuMenh_RulesInput]"
            ],
            "metadata": {
                "azdata_cell_guid": "6ad630d1-fe60-49c2-bb0e-20cd84815f69",
                "object_type": "Table",
                "urn": "Server[@Name='DESKTOP-6A65J8K\\SQLEXPRESS']/Database[@Name='TuVi']/Table[@Name='NuMenh_RulesInput' and @Schema='dbo']"
            }
        },
        {
            "cell_type": "code",
            "source": [
                "/****** Object:  Table [dbo].[NuMenh_RulesInput]    Script Date: 26/03/2024 8:08:11 pm ******/\n",
                "SET ANSI_NULLS ON\n",
                "GO\n",
                "SET QUOTED_IDENTIFIER ON\n",
                "GO\n",
                "CREATE TABLE [dbo].[NuMenh_RulesInput](\n",
                "\t[NuMenh_RuleInsId] [float] NULL,\n",
                "\t[Sao] [float] NULL,\n",
                "\t[ketqua_id] [float] NULL,\n",
                "\t[marker] [nvarchar](255) NULL\n",
                ") ON [PRIMARY]\n",
                "GO\n"
            ],
            "metadata": {
                "azdata_cell_guid": "fcc28207-2ba4-478a-b747-f1c93e3421c1",
                "language": "sql",
                "object_type": "Table",
                "urn": "Server[@Name='DESKTOP-6A65J8K\\SQLEXPRESS']/Database[@Name='TuVi']/Table[@Name='NuMenh_RulesInput' and @Schema='dbo']",
                "vscode": {
                    "languageId": "sql"
                }
            },
            "outputs": [
                {
                    "output_type": "display_data",
                    "data": {
                        "text/html": "Commands completed successfully."
                    },
                    "metadata": {}
                },
                {
                    "output_type": "display_data",
                    "data": {
                        "text/html": "Commands completed successfully."
                    },
                    "metadata": {}
                },
                {
                    "output_type": "display_data",
                    "data": {
                        "text/html": "Commands completed successfully."
                    },
                    "metadata": {}
                },
                {
                    "output_type": "display_data",
                    "data": {
                        "text/html": "Total execution time: 00:00:00.013"
                    },
                    "metadata": {}
                }
            ],
            "execution_count": 19
        },
        {
            "cell_type": "markdown",
            "source": [
                "# [dbo].[RuleforDV]"
            ],
            "metadata": {
                "azdata_cell_guid": "98370849-6b1e-4e28-8518-80c475642e1e",
                "object_type": "Table",
                "urn": "Server[@Name='DESKTOP-6A65J8K\\SQLEXPRESS']/Database[@Name='TuVi']/Table[@Name='RuleforDV' and @Schema='dbo']"
            }
        },
        {
            "cell_type": "code",
            "source": [
                "/****** Object:  Table [dbo].[RuleforDV]    Script Date: 26/03/2024 8:08:11 pm ******/\n",
                "SET ANSI_NULLS ON\n",
                "GO\n",
                "SET QUOTED_IDENTIFIER ON\n",
                "GO\n",
                "CREATE TABLE [dbo].[RuleforDV](\n",
                "\t[mucluc] [nvarchar](255) NULL,\n",
                "\t[nguyenhan] [nvarchar](255) NULL,\n",
                "\t[Mucdo] [nvarchar](255) NULL,\n",
                "\t[Tham_khao] [nvarchar](255) NULL,\n",
                "\t[marker] [nvarchar](255) NULL,\n",
                "\t[DV_RuleInsId] [float] NULL\n",
                ") ON [PRIMARY]\n",
                "GO\n"
            ],
            "metadata": {
                "azdata_cell_guid": "33f559da-bccf-4e02-a974-ecaf8261676a",
                "language": "sql",
                "object_type": "Table",
                "urn": "Server[@Name='DESKTOP-6A65J8K\\SQLEXPRESS']/Database[@Name='TuVi']/Table[@Name='RuleforDV' and @Schema='dbo']",
                "vscode": {
                    "languageId": "sql"
                }
            },
            "outputs": [
                {
                    "output_type": "display_data",
                    "data": {
                        "text/html": "Commands completed successfully."
                    },
                    "metadata": {}
                },
                {
                    "output_type": "display_data",
                    "data": {
                        "text/html": "Commands completed successfully."
                    },
                    "metadata": {}
                },
                {
                    "output_type": "display_data",
                    "data": {
                        "text/html": "Commands completed successfully."
                    },
                    "metadata": {}
                },
                {
                    "output_type": "display_data",
                    "data": {
                        "text/html": "Total execution time: 00:00:00.013"
                    },
                    "metadata": {}
                }
            ],
            "execution_count": 20
        },
        {
            "cell_type": "markdown",
            "source": [
                "# [dbo].[Rules]"
            ],
            "metadata": {
                "azdata_cell_guid": "70730620-4813-4faf-b3ea-20c533b1e721",
                "object_type": "Table",
                "urn": "Server[@Name='DESKTOP-6A65J8K\\SQLEXPRESS']/Database[@Name='TuVi']/Table[@Name='Rules' and @Schema='dbo']"
            }
        },
        {
            "cell_type": "code",
            "source": [
                "/****** Object:  Table [dbo].[Rules]    Script Date: 26/03/2024 8:08:11 pm ******/\n",
                "SET ANSI_NULLS ON\n",
                "GO\n",
                "SET QUOTED_IDENTIFIER ON\n",
                "GO\n",
                "CREATE TABLE [dbo].[Rules](\n",
                "\t[ruleId] [int] NOT NULL,\n",
                "\t[mucluc] [nvarchar](100) NULL,\n",
                "\t[nguyenhan] [nvarchar](500) NULL,\n",
                "\t[ketqua] [nvarchar](max) NULL,\n",
                "\t[thamkhao] [nvarchar](500) NULL,\n",
                "PRIMARY KEY CLUSTERED \n",
                "(\n",
                "\t[ruleId] ASC\n",
                ")WITH (PAD_INDEX = OFF, STATISTICS_NORECOMPUTE = OFF, IGNORE_DUP_KEY = OFF, ALLOW_ROW_LOCKS = ON, ALLOW_PAGE_LOCKS = ON) ON [PRIMARY]\n",
                ") ON [PRIMARY] TEXTIMAGE_ON [PRIMARY]\n",
                "GO\n"
            ],
            "metadata": {
                "azdata_cell_guid": "88b6c192-cf39-48e8-8bb7-4e3a0032c3b9",
                "language": "sql",
                "object_type": "Table",
                "urn": "Server[@Name='DESKTOP-6A65J8K\\SQLEXPRESS']/Database[@Name='TuVi']/Table[@Name='Rules' and @Schema='dbo']",
                "vscode": {
                    "languageId": "sql"
                }
            },
            "outputs": [
                {
                    "output_type": "display_data",
                    "data": {
                        "text/html": "Commands completed successfully."
                    },
                    "metadata": {}
                },
                {
                    "output_type": "display_data",
                    "data": {
                        "text/html": "Commands completed successfully."
                    },
                    "metadata": {}
                },
                {
                    "output_type": "display_data",
                    "data": {
                        "text/html": "Commands completed successfully."
                    },
                    "metadata": {}
                },
                {
                    "output_type": "display_data",
                    "data": {
                        "text/html": "Total execution time: 00:00:00.016"
                    },
                    "metadata": {}
                }
            ],
            "execution_count": 21
        },
        {
            "cell_type": "markdown",
            "source": [
                "# [dbo].[RulesInput]"
            ],
            "metadata": {
                "azdata_cell_guid": "001266c6-0e65-4c52-a940-beb272955e2a",
                "object_type": "Table",
                "urn": "Server[@Name='DESKTOP-6A65J8K\\SQLEXPRESS']/Database[@Name='TuVi']/Table[@Name='RulesInput' and @Schema='dbo']"
            }
        },
        {
            "cell_type": "code",
            "source": [
                "/****** Object:  Table [dbo].[RulesInput]    Script Date: 26/03/2024 8:08:11 pm ******/\n",
                "SET ANSI_NULLS ON\n",
                "GO\n",
                "SET QUOTED_IDENTIFIER ON\n",
                "GO\n",
                "CREATE TABLE [dbo].[RulesInput](\n",
                "\t[ruleId] [int] NULL,\n",
                "\t[cungId] [int] NULL,\n",
                "\t[diachiId] [int] NULL,\n",
                "\t[saoId] [int] NULL,\n",
                "\t[marker] [float] NULL\n",
                ") ON [PRIMARY]\n",
                "GO\n"
            ],
            "metadata": {
                "azdata_cell_guid": "64149fcb-3fa3-4489-a0ee-134a31739ec9",
                "language": "sql",
                "object_type": "Table",
                "urn": "Server[@Name='DESKTOP-6A65J8K\\SQLEXPRESS']/Database[@Name='TuVi']/Table[@Name='RulesInput' and @Schema='dbo']",
                "vscode": {
                    "languageId": "sql"
                }
            },
            "outputs": [
                {
                    "output_type": "display_data",
                    "data": {
                        "text/html": "Commands completed successfully."
                    },
                    "metadata": {}
                },
                {
                    "output_type": "display_data",
                    "data": {
                        "text/html": "Commands completed successfully."
                    },
                    "metadata": {}
                },
                {
                    "output_type": "display_data",
                    "data": {
                        "text/html": "Commands completed successfully."
                    },
                    "metadata": {}
                },
                {
                    "output_type": "display_data",
                    "data": {
                        "text/html": "Total execution time: 00:00:00.020"
                    },
                    "metadata": {}
                }
            ],
            "execution_count": 22
        },
        {
            "cell_type": "markdown",
            "source": [
                "# [dbo].[Sao]"
            ],
            "metadata": {
                "azdata_cell_guid": "f0175a10-d800-4190-a084-2385185e2ed7",
                "object_type": "Table",
                "urn": "Server[@Name='DESKTOP-6A65J8K\\SQLEXPRESS']/Database[@Name='TuVi']/Table[@Name='Sao' and @Schema='dbo']"
            }
        },
        {
            "cell_type": "code",
            "source": [
                "/****** Object:  Table [dbo].[Sao]    Script Date: 26/03/2024 8:08:11 pm ******/\n",
                "SET ANSI_NULLS ON\n",
                "GO\n",
                "SET QUOTED_IDENTIFIER ON\n",
                "GO\n",
                "CREATE TABLE [dbo].[Sao](\n",
                "\t[saoID] [int] NOT NULL,\n",
                "\t[saoTen] [nvarchar](100) NOT NULL,\n",
                "\t[saoNguHanh] [char](1) NULL,\n",
                "\t[saoLoai] [int] NULL,\n",
                "\t[saoPhuongVi] [nvarchar](100) NULL,\n",
                "\t[saoAmDuong] [char](2) NULL,\n",
                "\t[vongTrangSinh] [int] NULL,\n",
                "PRIMARY KEY CLUSTERED \n",
                "(\n",
                "\t[saoID] ASC\n",
                ")WITH (PAD_INDEX = OFF, STATISTICS_NORECOMPUTE = OFF, IGNORE_DUP_KEY = OFF, ALLOW_ROW_LOCKS = ON, ALLOW_PAGE_LOCKS = ON) ON [PRIMARY]\n",
                ") ON [PRIMARY]\n",
                "GO\n"
            ],
            "metadata": {
                "azdata_cell_guid": "55d11064-b7f6-4292-864e-6f18b37ee05e",
                "language": "sql",
                "object_type": "Table",
                "urn": "Server[@Name='DESKTOP-6A65J8K\\SQLEXPRESS']/Database[@Name='TuVi']/Table[@Name='Sao' and @Schema='dbo']",
                "vscode": {
                    "languageId": "sql"
                }
            },
            "outputs": [
                {
                    "output_type": "display_data",
                    "data": {
                        "text/html": "Commands completed successfully."
                    },
                    "metadata": {}
                },
                {
                    "output_type": "display_data",
                    "data": {
                        "text/html": "Commands completed successfully."
                    },
                    "metadata": {}
                },
                {
                    "output_type": "display_data",
                    "data": {
                        "text/html": "Commands completed successfully."
                    },
                    "metadata": {}
                },
                {
                    "output_type": "display_data",
                    "data": {
                        "text/html": "Total execution time: 00:00:00.013"
                    },
                    "metadata": {}
                }
            ],
            "execution_count": 23
        },
        {
            "cell_type": "markdown",
            "source": [
                "# [dbo].[TuVi_Rules]"
            ],
            "metadata": {
                "azdata_cell_guid": "fe32fba0-7dfb-4569-a660-3377060f91cb",
                "object_type": "Table",
                "urn": "Server[@Name='DESKTOP-6A65J8K\\SQLEXPRESS']/Database[@Name='TuVi']/Table[@Name='TuVi_Rules' and @Schema='dbo']"
            }
        },
        {
            "cell_type": "code",
            "source": [
                "/****** Object:  Table [dbo].[TuVi_Rules]    Script Date: 26/03/2024 8:08:11 pm ******/\n",
                "SET ANSI_NULLS ON\n",
                "GO\n",
                "SET QUOTED_IDENTIFIER ON\n",
                "GO\n",
                "CREATE TABLE [dbo].[TuVi_Rules](\n",
                "\t[TuVi_RuleId] [float] NULL,\n",
                "\t[mucluc] [nvarchar](255) NULL,\n",
                "\t[nguyenhan] [nvarchar](255) NULL,\n",
                "\t[ketqua] [nvarchar](255) NULL,\n",
                "\t[cauphu] [nvarchar](255) NULL,\n",
                "\t[thamkhao] [nvarchar](255) NULL\n",
                ") ON [PRIMARY]\n",
                "GO\n"
            ],
            "metadata": {
                "azdata_cell_guid": "b1c3f1b8-441c-4ac1-9917-0d16aa2a156f",
                "language": "sql",
                "object_type": "Table",
                "urn": "Server[@Name='DESKTOP-6A65J8K\\SQLEXPRESS']/Database[@Name='TuVi']/Table[@Name='TuVi_Rules' and @Schema='dbo']",
                "vscode": {
                    "languageId": "sql"
                }
            },
            "outputs": [
                {
                    "output_type": "display_data",
                    "data": {
                        "text/html": "Commands completed successfully."
                    },
                    "metadata": {}
                },
                {
                    "output_type": "display_data",
                    "data": {
                        "text/html": "Commands completed successfully."
                    },
                    "metadata": {}
                },
                {
                    "output_type": "display_data",
                    "data": {
                        "text/html": "Commands completed successfully."
                    },
                    "metadata": {}
                },
                {
                    "output_type": "display_data",
                    "data": {
                        "text/html": "Total execution time: 00:00:00.014"
                    },
                    "metadata": {}
                }
            ],
            "execution_count": 24
        },
        {
            "cell_type": "markdown",
            "source": [
                "# [dbo].[TuVi_RulesInput]"
            ],
            "metadata": {
                "azdata_cell_guid": "4b37eaa2-1527-4405-a4aa-ed61204e4d37",
                "object_type": "Table",
                "urn": "Server[@Name='DESKTOP-6A65J8K\\SQLEXPRESS']/Database[@Name='TuVi']/Table[@Name='TuVi_RulesInput' and @Schema='dbo']"
            }
        },
        {
            "cell_type": "code",
            "source": [
                "/****** Object:  Table [dbo].[TuVi_RulesInput]    Script Date: 26/03/2024 8:08:11 pm ******/\n",
                "SET ANSI_NULLS ON\n",
                "GO\n",
                "SET QUOTED_IDENTIFIER ON\n",
                "GO\n",
                "CREATE TABLE [dbo].[TuVi_RulesInput](\n",
                "\t[TuVi_RuleInsId] [float] NULL,\n",
                "\t[cung] [float] NULL,\n",
                "\t[cung1] [float] NULL,\n",
                "\t[ketqua_id] [float] NULL,\n",
                "\t[marker] [nvarchar](255) NULL\n",
                ") ON [PRIMARY]\n",
                "GO\n"
            ],
            "metadata": {
                "azdata_cell_guid": "8a62a7c3-3508-4594-ad28-1d44dd595758",
                "language": "sql",
                "object_type": "Table",
                "urn": "Server[@Name='DESKTOP-6A65J8K\\SQLEXPRESS']/Database[@Name='TuVi']/Table[@Name='TuVi_RulesInput' and @Schema='dbo']",
                "vscode": {
                    "languageId": "sql"
                }
            },
            "outputs": [
                {
                    "output_type": "display_data",
                    "data": {
                        "text/html": "Commands completed successfully."
                    },
                    "metadata": {}
                },
                {
                    "output_type": "display_data",
                    "data": {
                        "text/html": "Commands completed successfully."
                    },
                    "metadata": {}
                },
                {
                    "output_type": "display_data",
                    "data": {
                        "text/html": "Commands completed successfully."
                    },
                    "metadata": {}
                },
                {
                    "output_type": "display_data",
                    "data": {
                        "text/html": "Total execution time: 00:00:00.016"
                    },
                    "metadata": {}
                }
            ],
            "execution_count": 25
        },
        {
            "cell_type": "markdown",
            "source": [
                "# [dbo].[VH_Rules]"
            ],
            "metadata": {
                "azdata_cell_guid": "434f7094-f34d-4ea3-84ae-9ac9486fed00",
                "object_type": "Table",
                "urn": "Server[@Name='DESKTOP-6A65J8K\\SQLEXPRESS']/Database[@Name='TuVi']/Table[@Name='VH_Rules' and @Schema='dbo']"
            }
        },
        {
            "cell_type": "code",
            "source": [
                "/****** Object:  Table [dbo].[VH_Rules]    Script Date: 26/03/2024 8:08:11 pm ******/\n",
                "SET ANSI_NULLS ON\n",
                "GO\n",
                "SET QUOTED_IDENTIFIER ON\n",
                "GO\n",
                "CREATE TABLE [dbo].[VH_Rules](\n",
                "\t[VH_RuleId] [float] NULL,\n",
                "\t[mucluc] [nvarchar](255) NULL,\n",
                "\t[nguyenhan] [nvarchar](255) NULL,\n",
                "\t[Tham_khao] [nvarchar](255) NULL,\n",
                "\t[Loi_giai] [nvarchar](255) NULL\n",
                ") ON [PRIMARY]\n",
                "GO\n"
            ],
            "metadata": {
                "azdata_cell_guid": "1da325dc-81ca-4051-8947-db3a35c52c8f",
                "language": "sql",
                "object_type": "Table",
                "urn": "Server[@Name='DESKTOP-6A65J8K\\SQLEXPRESS']/Database[@Name='TuVi']/Table[@Name='VH_Rules' and @Schema='dbo']",
                "vscode": {
                    "languageId": "sql"
                }
            },
            "outputs": [
                {
                    "output_type": "display_data",
                    "data": {
                        "text/html": "Commands completed successfully."
                    },
                    "metadata": {}
                },
                {
                    "output_type": "display_data",
                    "data": {
                        "text/html": "Commands completed successfully."
                    },
                    "metadata": {}
                },
                {
                    "output_type": "display_data",
                    "data": {
                        "text/html": "Commands completed successfully."
                    },
                    "metadata": {}
                },
                {
                    "output_type": "display_data",
                    "data": {
                        "text/html": "Total execution time: 00:00:00.015"
                    },
                    "metadata": {}
                }
            ],
            "execution_count": 26
        },
        {
            "cell_type": "markdown",
            "source": [
                "# [dbo].[VH_RulesInput]"
            ],
            "metadata": {
                "azdata_cell_guid": "65cbc8bb-508b-4662-b6a6-4b485c065544",
                "object_type": "Table",
                "urn": "Server[@Name='DESKTOP-6A65J8K\\SQLEXPRESS']/Database[@Name='TuVi']/Table[@Name='VH_RulesInput' and @Schema='dbo']"
            }
        },
        {
            "cell_type": "code",
            "source": [
                "/****** Object:  Table [dbo].[VH_RulesInput]    Script Date: 26/03/2024 8:08:11 pm ******/\n",
                "SET ANSI_NULLS ON\n",
                "GO\n",
                "SET QUOTED_IDENTIFIER ON\n",
                "GO\n",
                "CREATE TABLE [dbo].[VH_RulesInput](\n",
                "\t[VH_RuleInsId] [float] NULL,\n",
                "\t[Ban_menh] [nvarchar](255) NULL,\n",
                "\t[Cung_tieu_han] [float] NULL,\n",
                "\t[Sao1] [float] NULL,\n",
                "\t[Sao2] [float] NULL,\n",
                "\t[marker] [float] NULL,\n",
                "\t[loigiai_id] [float] NULL\n",
                ") ON [PRIMARY]\n",
                "GO\n"
            ],
            "metadata": {
                "azdata_cell_guid": "a175d8ad-355f-47de-abf0-332c80bd1c6e",
                "language": "sql",
                "object_type": "Table",
                "urn": "Server[@Name='DESKTOP-6A65J8K\\SQLEXPRESS']/Database[@Name='TuVi']/Table[@Name='VH_RulesInput' and @Schema='dbo']",
                "vscode": {
                    "languageId": "sql"
                }
            },
            "outputs": [
                {
                    "output_type": "display_data",
                    "data": {
                        "text/html": "Commands completed successfully."
                    },
                    "metadata": {}
                },
                {
                    "output_type": "display_data",
                    "data": {
                        "text/html": "Commands completed successfully."
                    },
                    "metadata": {}
                },
                {
                    "output_type": "display_data",
                    "data": {
                        "text/html": "Commands completed successfully."
                    },
                    "metadata": {}
                },
                {
                    "output_type": "display_data",
                    "data": {
                        "text/html": "Total execution time: 00:00:00.012"
                    },
                    "metadata": {}
                }
            ],
            "execution_count": 27
        },
        {
            "cell_type": "markdown",
            "source": [
                "# [dbo].[GetDataC6Tho]"
            ],
            "metadata": {
                "azdata_cell_guid": "6924e05c-b112-466e-9d54-4580c3580b01",
                "object_type": "StoredProcedure",
                "urn": "Server[@Name='DESKTOP-6A65J8K\\SQLEXPRESS']/Database[@Name='TuVi']/StoredProcedure[@Name='GetDataC6Tho' and @Schema='dbo']"
            }
        },
        {
            "cell_type": "code",
            "source": [
                "/****** Object:  StoredProcedure [dbo].[GetDataC6Tho]    Script Date: 26/03/2024 8:08:11 pm ******/\n",
                "SET ANSI_NULLS ON\n",
                "GO\n",
                "SET QUOTED_IDENTIFIER ON\n",
                "GO\n",
                "CREATE PROCEDURE [dbo].[GetDataC6Tho]\n",
                "AS\n",
                "BEGIN\n",
                "    select *\n",
                "    from C6_Tho_Rules\n",
                "END;\n",
                "GO\n"
            ],
            "metadata": {
                "azdata_cell_guid": "2892c44b-7979-4e6e-b59a-5f6013a9f855",
                "language": "sql",
                "object_type": "StoredProcedure",
                "urn": "Server[@Name='DESKTOP-6A65J8K\\SQLEXPRESS']/Database[@Name='TuVi']/StoredProcedure[@Name='GetDataC6Tho' and @Schema='dbo']",
                "vscode": {
                    "languageId": "sql"
                }
            },
            "outputs": [
                {
                    "output_type": "display_data",
                    "data": {
                        "text/html": "Commands completed successfully."
                    },
                    "metadata": {}
                },
                {
                    "output_type": "display_data",
                    "data": {
                        "text/html": "Commands completed successfully."
                    },
                    "metadata": {}
                },
                {
                    "output_type": "display_data",
                    "data": {
                        "text/html": "Commands completed successfully."
                    },
                    "metadata": {}
                },
                {
                    "output_type": "display_data",
                    "data": {
                        "text/html": "Total execution time: 00:00:00.015"
                    },
                    "metadata": {}
                }
            ],
            "execution_count": 28
        },
        {
            "cell_type": "markdown",
            "source": [
                "# [dbo].[GetDataC6V1]"
            ],
            "metadata": {
                "azdata_cell_guid": "3416cdac-0ae3-4c1b-8843-befd20193383",
                "object_type": "StoredProcedure",
                "urn": "Server[@Name='DESKTOP-6A65J8K\\SQLEXPRESS']/Database[@Name='TuVi']/StoredProcedure[@Name='GetDataC6V1' and @Schema='dbo']"
            }
        },
        {
            "cell_type": "code",
            "source": [
                "/****** Object:  StoredProcedure [dbo].[GetDataC6V1]    Script Date: 26/03/2024 8:08:11 pm ******/\n",
                "SET ANSI_NULLS ON\n",
                "GO\n",
                "SET QUOTED_IDENTIFIER ON\n",
                "GO\n",
                "CREATE PROCEDURE [dbo].[GetDataC6V1]\n",
                "AS\n",
                "BEGIN\n",
                "    select *\n",
                "\tfrom C6_Rules a\n",
                "\twhere a.ruleid in(select r1.Rule_Id \n",
                "\t\t\t\tfrom C6_RulesInput r1 \n",
                "\t\t\t\tgroup by r1.Rule_Id \n",
                "\t\t\t\thaving count(r1.Rule_Id) = sum(marker) \n",
                "\t\t\t\tor \n",
                "\t\t\t\t(\n",
                "\t\t\t\t\t(count(r1.Rule_Id)/sum(marker)) > 2 \n",
                "\t\t\t\t     and (count(r1.Rule_Id)/sum(marker)) <=3.5 \n",
                "\t\t\t\t)\n",
                "\t\t\t   );\n",
                "END;\n",
                "GO\n"
            ],
            "metadata": {
                "azdata_cell_guid": "25b79868-93b1-4aba-9ee8-b75daa421a56",
                "language": "sql",
                "object_type": "StoredProcedure",
                "urn": "Server[@Name='DESKTOP-6A65J8K\\SQLEXPRESS']/Database[@Name='TuVi']/StoredProcedure[@Name='GetDataC6V1' and @Schema='dbo']",
                "vscode": {
                    "languageId": "sql"
                }
            },
            "outputs": [
                {
                    "output_type": "display_data",
                    "data": {
                        "text/html": "Commands completed successfully."
                    },
                    "metadata": {}
                },
                {
                    "output_type": "display_data",
                    "data": {
                        "text/html": "Commands completed successfully."
                    },
                    "metadata": {}
                },
                {
                    "output_type": "display_data",
                    "data": {
                        "text/html": "Commands completed successfully."
                    },
                    "metadata": {}
                },
                {
                    "output_type": "display_data",
                    "data": {
                        "text/html": "Total execution time: 00:00:00.024"
                    },
                    "metadata": {}
                }
            ],
            "execution_count": 29
        },
        {
            "cell_type": "markdown",
            "source": [
                "# [dbo].[GetDataGD]"
            ],
            "metadata": {
                "azdata_cell_guid": "8c36011b-3cbf-4df1-8f07-7cb047a5984e",
                "object_type": "StoredProcedure",
                "urn": "Server[@Name='DESKTOP-6A65J8K\\SQLEXPRESS']/Database[@Name='TuVi']/StoredProcedure[@Name='GetDataGD' and @Schema='dbo']"
            }
        },
        {
            "cell_type": "code",
            "source": [
                "/****** Object:  StoredProcedure [dbo].[GetDataGD]    Script Date: 26/03/2024 8:08:11 pm ******/\n",
                "SET ANSI_NULLS ON\n",
                "GO\n",
                "SET QUOTED_IDENTIFIER ON\n",
                "GO\n",
                "CREATE PROCEDURE [dbo].[GetDataGD]\n",
                "AS\n",
                "BEGIN\n",
                "    select * from GD_Rules a where a.GD_RuleId in (select GD_RuleInsId from GD_RulesInput where marker = 1)\t\t\n",
                "END;\n",
                "GO\n"
            ],
            "metadata": {
                "azdata_cell_guid": "9bf9c83f-3943-485a-8ccd-9de70679d7b2",
                "language": "sql",
                "object_type": "StoredProcedure",
                "urn": "Server[@Name='DESKTOP-6A65J8K\\SQLEXPRESS']/Database[@Name='TuVi']/StoredProcedure[@Name='GetDataGD' and @Schema='dbo']",
                "vscode": {
                    "languageId": "sql"
                }
            },
            "outputs": [
                {
                    "output_type": "display_data",
                    "data": {
                        "text/html": "Commands completed successfully."
                    },
                    "metadata": {}
                },
                {
                    "output_type": "display_data",
                    "data": {
                        "text/html": "Commands completed successfully."
                    },
                    "metadata": {}
                },
                {
                    "output_type": "display_data",
                    "data": {
                        "text/html": "Commands completed successfully."
                    },
                    "metadata": {}
                },
                {
                    "output_type": "display_data",
                    "data": {
                        "text/html": "Total execution time: 00:00:00.012"
                    },
                    "metadata": {}
                }
            ],
            "execution_count": 30
        },
        {
            "cell_type": "markdown",
            "source": [
                "# [dbo].[GetDataGiaiDoan]"
            ],
            "metadata": {
                "azdata_cell_guid": "90cd47ef-5319-4c5d-a7bb-fcf40d645cd4",
                "object_type": "StoredProcedure",
                "urn": "Server[@Name='DESKTOP-6A65J8K\\SQLEXPRESS']/Database[@Name='TuVi']/StoredProcedure[@Name='GetDataGiaiDoan' and @Schema='dbo']"
            }
        },
        {
            "cell_type": "code",
            "source": [
                "/****** Object:  StoredProcedure [dbo].[GetDataGiaiDoan]    Script Date: 26/03/2024 8:08:11 pm ******/\n",
                "SET ANSI_NULLS ON\n",
                "GO\n",
                "SET QUOTED_IDENTIFIER ON\n",
                "GO\n",
                "CREATE proc [dbo].[GetDataGiaiDoan]\n",
                "as\n",
                "begin\n",
                "select mucluc, nguyenhan, ketqua, thamkhao from Rules where ruleId in(select r1.ruleId from RulesInput r1 \n",
                "group by r1.ruleId having count(r1.ruleId) = sum(marker) or ((count(r1.ruleId)/sum(marker)) > 2 and (count(r1.ruleId)/sum(marker)) <=3.5 ))\n",
                "end\n",
                "GO\n"
            ],
            "metadata": {
                "azdata_cell_guid": "9b7dc804-ed6d-40e6-8f62-42dc8eacddd7",
                "language": "sql",
                "object_type": "StoredProcedure",
                "urn": "Server[@Name='DESKTOP-6A65J8K\\SQLEXPRESS']/Database[@Name='TuVi']/StoredProcedure[@Name='GetDataGiaiDoan' and @Schema='dbo']",
                "vscode": {
                    "languageId": "sql"
                }
            },
            "outputs": [
                {
                    "output_type": "display_data",
                    "data": {
                        "text/html": "Commands completed successfully."
                    },
                    "metadata": {}
                },
                {
                    "output_type": "display_data",
                    "data": {
                        "text/html": "Commands completed successfully."
                    },
                    "metadata": {}
                },
                {
                    "output_type": "display_data",
                    "data": {
                        "text/html": "Commands completed successfully."
                    },
                    "metadata": {}
                },
                {
                    "output_type": "display_data",
                    "data": {
                        "text/html": "Total execution time: 00:00:00.014"
                    },
                    "metadata": {}
                }
            ],
            "execution_count": 31
        },
        {
            "cell_type": "markdown",
            "source": [
                "# [dbo].[GetDataNgheNghiep]"
            ],
            "metadata": {
                "azdata_cell_guid": "925a0282-0a6d-476b-bd1a-3675ad19f0a2",
                "object_type": "StoredProcedure",
                "urn": "Server[@Name='DESKTOP-6A65J8K\\SQLEXPRESS']/Database[@Name='TuVi']/StoredProcedure[@Name='GetDataNgheNghiep' and @Schema='dbo']"
            }
        },
        {
            "cell_type": "code",
            "source": [
                "/****** Object:  StoredProcedure [dbo].[GetDataNgheNghiep]    Script Date: 26/03/2024 8:08:11 pm ******/\n",
                "SET ANSI_NULLS ON\n",
                "GO\n",
                "SET QUOTED_IDENTIFIER ON\n",
                "GO\n",
                "--drop procedure GetDataNgheNghiep;\n",
                "\n",
                "CREATE PROCEDURE [dbo].[GetDataNgheNghiep]\n",
                "AS\n",
                "BEGIN\n",
                "    SELECT nr.*, nri.marker\n",
                "    FROM NgheNghiep_Rules nr\n",
                "    INNER JOIN NgheNghiep_RulesInput nri ON nr.DangthucID = nri.NgheNghiep_RuleInsId\n",
                "    WHERE nri.marker = 4;\n",
                "END;\n",
                "GO\n"
            ],
            "metadata": {
                "azdata_cell_guid": "e5fa4d83-c39d-403b-a6f4-5eeb9422f2a7",
                "language": "sql",
                "object_type": "StoredProcedure",
                "urn": "Server[@Name='DESKTOP-6A65J8K\\SQLEXPRESS']/Database[@Name='TuVi']/StoredProcedure[@Name='GetDataNgheNghiep' and @Schema='dbo']",
                "vscode": {
                    "languageId": "sql"
                }
            },
            "outputs": [
                {
                    "output_type": "display_data",
                    "data": {
                        "text/html": "Commands completed successfully."
                    },
                    "metadata": {}
                },
                {
                    "output_type": "display_data",
                    "data": {
                        "text/html": "Commands completed successfully."
                    },
                    "metadata": {}
                },
                {
                    "output_type": "display_data",
                    "data": {
                        "text/html": "Commands completed successfully."
                    },
                    "metadata": {}
                },
                {
                    "output_type": "display_data",
                    "data": {
                        "text/html": "Total execution time: 00:00:00.012"
                    },
                    "metadata": {}
                }
            ],
            "execution_count": 32
        },
        {
            "cell_type": "markdown",
            "source": [
                "# [dbo].[GetDataNuMenh]"
            ],
            "metadata": {
                "azdata_cell_guid": "81533312-0344-4102-bce4-6ca4bc7a046d",
                "object_type": "StoredProcedure",
                "urn": "Server[@Name='DESKTOP-6A65J8K\\SQLEXPRESS']/Database[@Name='TuVi']/StoredProcedure[@Name='GetDataNuMenh' and @Schema='dbo']"
            }
        },
        {
            "cell_type": "code",
            "source": [
                "/****** Object:  StoredProcedure [dbo].[GetDataNuMenh]    Script Date: 26/03/2024 8:08:11 pm ******/\n",
                "SET ANSI_NULLS ON\n",
                "GO\n",
                "SET QUOTED_IDENTIFIER ON\n",
                "GO\n",
                "\n",
                "CREATE PROCEDURE [dbo].[GetDataNuMenh]\n",
                "AS\n",
                "BEGIN\n",
                "    select * from NuMenh_Rules a where a.id in (select NuMenh_RuleInsId from NuMenh_RulesInput where marker = 1)\t\n",
                "END;\n",
                "GO\n"
            ],
            "metadata": {
                "azdata_cell_guid": "8b92593d-c44b-40c1-80ed-e4fe8d06efb8",
                "language": "sql",
                "object_type": "StoredProcedure",
                "urn": "Server[@Name='DESKTOP-6A65J8K\\SQLEXPRESS']/Database[@Name='TuVi']/StoredProcedure[@Name='GetDataNuMenh' and @Schema='dbo']",
                "vscode": {
                    "languageId": "sql"
                }
            },
            "outputs": [
                {
                    "output_type": "display_data",
                    "data": {
                        "text/html": "Commands completed successfully."
                    },
                    "metadata": {}
                },
                {
                    "output_type": "display_data",
                    "data": {
                        "text/html": "Commands completed successfully."
                    },
                    "metadata": {}
                },
                {
                    "output_type": "display_data",
                    "data": {
                        "text/html": "Commands completed successfully."
                    },
                    "metadata": {}
                },
                {
                    "output_type": "display_data",
                    "data": {
                        "text/html": "Total execution time: 00:00:00.011"
                    },
                    "metadata": {}
                }
            ],
            "execution_count": 33
        },
        {
            "cell_type": "markdown",
            "source": [
                "# [dbo].[GetDataTuVi]"
            ],
            "metadata": {
                "azdata_cell_guid": "1b7b9eb2-6f93-47e4-897d-46217ae286cd",
                "object_type": "StoredProcedure",
                "urn": "Server[@Name='DESKTOP-6A65J8K\\SQLEXPRESS']/Database[@Name='TuVi']/StoredProcedure[@Name='GetDataTuVi' and @Schema='dbo']"
            }
        },
        {
            "cell_type": "code",
            "source": [
                "/****** Object:  StoredProcedure [dbo].[GetDataTuVi]    Script Date: 26/03/2024 8:08:11 pm ******/\n",
                "SET ANSI_NULLS ON\n",
                "GO\n",
                "SET QUOTED_IDENTIFIER ON\n",
                "GO\n",
                "\n",
                "CREATE PROCEDURE [dbo].[GetDataTuVi]\n",
                "AS\n",
                "BEGIN\n",
                "    select * from TuVi_Rules a where a.TuVi_RuleId in (select TuVi_RuleInsId from TuVi_RulesInput where marker = 1)\t\t\n",
                "END;\n",
                "GO\n"
            ],
            "metadata": {
                "azdata_cell_guid": "df545c06-3b23-41d0-b570-d5b09ae2c23d",
                "language": "sql",
                "object_type": "StoredProcedure",
                "urn": "Server[@Name='DESKTOP-6A65J8K\\SQLEXPRESS']/Database[@Name='TuVi']/StoredProcedure[@Name='GetDataTuVi' and @Schema='dbo']",
                "vscode": {
                    "languageId": "sql"
                }
            },
            "outputs": [
                {
                    "output_type": "display_data",
                    "data": {
                        "text/html": "Commands completed successfully."
                    },
                    "metadata": {}
                },
                {
                    "output_type": "display_data",
                    "data": {
                        "text/html": "Commands completed successfully."
                    },
                    "metadata": {}
                },
                {
                    "output_type": "display_data",
                    "data": {
                        "text/html": "Commands completed successfully."
                    },
                    "metadata": {}
                },
                {
                    "output_type": "display_data",
                    "data": {
                        "text/html": "Total execution time: 00:00:00.014"
                    },
                    "metadata": {}
                }
            ],
            "execution_count": 34
        },
        {
            "cell_type": "markdown",
            "source": [
                "# [dbo].[GetDataVH]"
            ],
            "metadata": {
                "azdata_cell_guid": "0bde63ec-f106-472a-a820-4086a9e698ac",
                "object_type": "StoredProcedure",
                "urn": "Server[@Name='DESKTOP-6A65J8K\\SQLEXPRESS']/Database[@Name='TuVi']/StoredProcedure[@Name='GetDataVH' and @Schema='dbo']"
            }
        },
        {
            "cell_type": "code",
            "source": [
                "/****** Object:  StoredProcedure [dbo].[GetDataVH]    Script Date: 26/03/2024 8:08:11 pm ******/\n",
                "SET ANSI_NULLS ON\n",
                "GO\n",
                "SET QUOTED_IDENTIFIER ON\n",
                "GO\n",
                "CREATE PROCEDURE [dbo].[GetDataVH]\n",
                "AS\n",
                "BEGIN\n",
                "    select * from [VH_Rules] a\n",
                "\twhere a.[VH_RuleId] in (select [VH_RuleInsId] from [VH_RulesInput] where marker = 1)\n",
                "END;\n",
                "GO\n"
            ],
            "metadata": {
                "azdata_cell_guid": "5200a3c1-11ec-48b8-b599-c484779c7e9f",
                "language": "sql",
                "object_type": "StoredProcedure",
                "urn": "Server[@Name='DESKTOP-6A65J8K\\SQLEXPRESS']/Database[@Name='TuVi']/StoredProcedure[@Name='GetDataVH' and @Schema='dbo']",
                "vscode": {
                    "languageId": "sql"
                }
            },
            "outputs": [
                {
                    "output_type": "display_data",
                    "data": {
                        "text/html": "Commands completed successfully."
                    },
                    "metadata": {}
                },
                {
                    "output_type": "display_data",
                    "data": {
                        "text/html": "Commands completed successfully."
                    },
                    "metadata": {}
                },
                {
                    "output_type": "error",
                    "evalue": "Msg 2714, Level 16, State 3, Procedure GetDataVH, Line 1\nThere is already an object named 'GetDataVH' in the database.",
                    "ename": "",
                    "traceback": []
                },
                {
                    "output_type": "display_data",
                    "data": {
                        "text/html": "Total execution time: 00:00:00.008"
                    },
                    "metadata": {}
                }
            ],
            "execution_count": 39
        },
        {
            "cell_type": "markdown",
            "source": [
                "# [TuVi]"
            ],
            "metadata": {
                "azdata_cell_guid": "507ef1ed-3e5f-42b9-81de-b7b9e8e0195a",
                "object_type": "Database",
                "urn": "Server[@Name='DESKTOP-6A65J8K\\SQLEXPRESS']/Database[@Name='TuVi']"
            }
        },
        {
            "cell_type": "code",
            "source": [
                "USE [master]\n",
                "GO\n"
            ],
            "metadata": {
                "azdata_cell_guid": "3579cd97-4977-4b9c-8066-3e1c9ef8c2a1",
                "language": "sql",
                "object_type": "Database",
                "tags": [],
                "urn": "Server[@Name='DESKTOP-6A65J8K\\SQLEXPRESS']/Database[@Name='TuVi']",
                "vscode": {
                    "languageId": "sql"
                }
            },
            "outputs": [
                {
                    "output_type": "display_data",
                    "data": {
                        "text/html": "Commands completed successfully."
                    },
                    "metadata": {}
                },
                {
                    "output_type": "display_data",
                    "data": {
                        "text/html": "Total execution time: 00:00:00.007"
                    },
                    "metadata": {}
                }
            ],
            "execution_count": 35
        },
        {
            "cell_type": "code",
            "source": [
                "ALTER DATABASE [TuVi] SET  READ_WRITE \n",
                "GO\n"
            ],
            "metadata": {
                "azdata_cell_guid": "b45db411-e462-44cf-aefc-b0a9d3e049c1",
                "language": "sql",
                "object_type": "Database",
                "urn": "Server[@Name='DESKTOP-6A65J8K\\SQLEXPRESS']/Database[@Name='TuVi']",
                "vscode": {
                    "languageId": "sql"
                }
            },
            "outputs": [
                {
                    "output_type": "display_data",
                    "data": {
                        "text/html": "Commands completed successfully."
                    },
                    "metadata": {}
                },
                {
                    "output_type": "display_data",
                    "data": {
                        "text/html": "Total execution time: 00:00:00.229"
                    },
                    "metadata": {}
                }
            ],
            "execution_count": 36
        }
    ]
}